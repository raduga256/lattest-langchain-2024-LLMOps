{
 "cells": [
  {
   "cell_type": "markdown",
   "metadata": {},
   "source": [
    "## Prompt Templates and Output Parsers"
   ]
  },
  {
   "cell_type": "code",
   "execution_count": 4,
   "metadata": {},
   "outputs": [],
   "source": [
    "import os\n",
    "from dotenv import load_dotenv, find_dotenv\n",
    "\n",
    "# Load environment variables from a.env file\n",
    "_ = load_dotenv(find_dotenv())\n",
    "\n",
    "# openai_api_key = os.environ[\"OPENAI_API_KEY\"]\n",
    "\n",
    "# Load opensource api models\n",
    "groql_api_key = os.environ[\"GROQ_API_KEY\"]"
   ]
  },
  {
   "cell_type": "markdown",
   "metadata": {},
   "source": [
    "# Completion Models"
   ]
  },
  {
   "cell_type": "code",
   "execution_count": 5,
   "metadata": {},
   "outputs": [],
   "source": [
    "# working with Groq models\n",
    "\n",
    "from langchain_groq import ChatGroq\n",
    "\n",
    "llamaChatModel = ChatGroq(\n",
    "    model=\"llama3-70b-8192\"\n",
    ")"
   ]
  },
  {
   "cell_type": "markdown",
   "metadata": {},
   "source": [
    "## Prompts and Prompt Templates"
   ]
  },
  {
   "cell_type": "code",
   "execution_count": 7,
   "metadata": {},
   "outputs": [
    {
     "name": "stdout",
     "output_type": "stream",
     "text": [
      "content='The Kennedy family! So much history, drama, and intrigue surrounding this American royal family. Here\\'s a curious story that might pique your interest:\\n\\n**The Mysterious Case of the Kennedy Family\\'s \"Wild Child\"**\\n\\nMeet Rosemary Kennedy, the third child and first daughter of Joseph P. Kennedy Sr. and Rose Fitzgerald Kennedy. Born in 1918, Rosemary was known for her beauty, athleticism, and lively personality. However, she struggled with learning disabilities and behavioral issues from an early age, which frustrated her ambitious father and led to a series of unconventional and, some might say, disturbing decisions.\\n\\nIn the 1940s, Rosemary\\'s behavior became increasingly erratic, and her parents sought solutions to \"cure\" her of her perceived problems. They consulted with various doctors and eventually settled on a radical treatment: a prefrontal lobotomy, a procedure that involved severing nerve connections in the brain to calm the patient\\'s emotions.\\n\\nOn November 7, 1941, at the age of 23, Rosemary underwent the lobotomy at George Washington University Hospital. The procedure was performed by Dr. Walter Freeman, who had developed the \"ice-pick\" lobotomy technique, which involved inserting a leucotome (a thin instrument) into the eye socket and severing the nerve connections. The operation was a disaster, leaving Rosemary with severe cognitive and physical impairments.\\n\\nAfter the lobotomy, Rosemary\\'s family essentially disappeared her from public life. She was institutionalized at St. Gertrude\\'s School of the Mentally Retarded in Wisconsin, where she spent the next 57 years, until her death in 2005. Her family rarely visited her, and she was largely forgotten by the public.\\n\\nHere\\'s the curious part: The Kennedy family went to great lengths to keep Rosemary\\'s condition and whereabouts a secret. They even airbrushed her out of family photos and refused to acknowledge her existence in public. It wasn\\'t until the 1980s, when Rosemary\\'s niece, Maria Shriver, began to investigate her aunt\\'s story, that the truth about Rosemary\\'s life began to surface.\\n\\nRosemary\\'s story raises many questions about the Kennedy family\\'s dynamics, their treatment of those with disabilities, and the dark secrets they kept hidden from the public eye. It\\'s a tragic and fascinating tale that sheds light on the complexities and flaws of one of America\\'s most iconic families.\\n\\nWhat do you think about this story? Do you have any questions about the Kennedy family or Rosemary\\'s life?' response_metadata={'token_usage': {'completion_tokens': 518, 'prompt_tokens': 18, 'total_tokens': 536, 'completion_time': 1.48, 'prompt_time': 0.003475478, 'queue_time': 0.011756580999999999, 'total_time': 1.483475478}, 'model_name': 'llama3-70b-8192', 'system_fingerprint': 'fp_2f30b0b571', 'finish_reason': 'stop', 'logprobs': None} id='run-277d38f6-5ce2-47b7-818e-9a44ba633a6d-0' usage_metadata={'input_tokens': 18, 'output_tokens': 518, 'total_tokens': 536}\n"
     ]
    }
   ],
   "source": [
    "# import prompt templates from langchain\n",
    "\n",
    "# This is for completions model\n",
    "from langchain_core.prompts import PromptTemplate\n",
    "\n",
    "prompt_template = PromptTemplate.from_template(\n",
    "    \"Tell me a {adjective} story about {topic}\"\n",
    ")\n",
    "\n",
    "# How to parse the input strings to \n",
    "llmModelPrompt = prompt_template.format(\n",
    "    adjective=\"curious\",\n",
    "    topic=\"Kennedy Family\"\n",
    ")\n",
    "\n",
    "# call the model\n",
    "res = llamaChatModel.invoke(llmModelPrompt)\n",
    "print(res)"
   ]
  },
  {
   "cell_type": "code",
   "execution_count": 8,
   "metadata": {},
   "outputs": [
    {
     "name": "stdout",
     "output_type": "stream",
     "text": [
      "The Kennedy family! So much history, drama, and intrigue surrounding this American royal family. Here's a curious story that might pique your interest:\n",
      "\n",
      "**The Mysterious Case of the Kennedy Family's \"Wild Child\"**\n",
      "\n",
      "Meet Rosemary Kennedy, the third child and first daughter of Joseph P. Kennedy Sr. and Rose Fitzgerald Kennedy. Born in 1918, Rosemary was known for her beauty, athleticism, and lively personality. However, she struggled with learning disabilities and behavioral issues from an early age, which frustrated her ambitious father and led to a series of unconventional and, some might say, disturbing decisions.\n",
      "\n",
      "In the 1940s, Rosemary's behavior became increasingly erratic, and her parents sought solutions to \"cure\" her of her perceived problems. They consulted with various doctors and eventually settled on a radical treatment: a prefrontal lobotomy, a procedure that involved severing nerve connections in the brain to calm the patient's emotions.\n",
      "\n",
      "On November 7, 1941, at the age of 23, Rosemary underwent the lobotomy at George Washington University Hospital. The procedure was performed by Dr. Walter Freeman, who had developed the \"ice-pick\" lobotomy technique, which involved inserting a leucotome (a thin instrument) into the eye socket and severing the nerve connections. The operation was a disaster, leaving Rosemary with severe cognitive and physical impairments.\n",
      "\n",
      "After the lobotomy, Rosemary's family essentially disappeared her from public life. She was institutionalized at St. Gertrude's School of the Mentally Retarded in Wisconsin, where she spent the next 57 years, until her death in 2005. Her family rarely visited her, and she was largely forgotten by the public.\n",
      "\n",
      "Here's the curious part: The Kennedy family went to great lengths to keep Rosemary's condition and whereabouts a secret. They even airbrushed her out of family photos and refused to acknowledge her existence in public. It wasn't until the 1980s, when Rosemary's niece, Maria Shriver, began to investigate her aunt's story, that the truth about Rosemary's life began to surface.\n",
      "\n",
      "Rosemary's story raises many questions about the Kennedy family's dynamics, their treatment of those with disabilities, and the dark secrets they kept hidden from the public eye. It's a tragic and fascinating tale that sheds light on the complexities and flaws of one of America's most iconic families.\n",
      "\n",
      "What do you think about this story? Do you have any questions about the Kennedy family or Rosemary's life?\n"
     ]
    }
   ],
   "source": [
    "# print chunked response\n",
    "print(res.content)"
   ]
  },
  {
   "cell_type": "markdown",
   "metadata": {},
   "source": [
    "## Using the Chat Completions Template\n",
    "You can parse two prompt templates:\n",
    "- the \"system\" prompt\n",
    "- the \"human\" prompt"
   ]
  },
  {
   "cell_type": "code",
   "execution_count": 11,
   "metadata": {},
   "outputs": [
    {
     "name": "stdout",
     "output_type": "stream",
     "text": [
      "Joseph P. Kennedy, the patriarch of the Kennedy family, had a total of 29 grandchildren. His nine children, including John F. Kennedy, Robert F. Kennedy, Ted Kennedy, and their siblings, went on to have a large brood of children of their own. In fact, the Kennedy family is known for its large and close-knit family, with many family members remaining involved in politics, public service, and philanthropy to this day.\n"
     ]
    }
   ],
   "source": [
    "# chat completion model\n",
    "\n",
    "from langchain_core.prompts import ChatPromptTemplate\n",
    "\n",
    "# Prompt Engineering  - Zero shot prompting\n",
    "chat_template = ChatPromptTemplate.from_messages(\n",
    "    [\n",
    "        (\"system\", \"You're an {professional} expert on {topic}.\"),\n",
    "        (\"human\", \"Hello Mr. {professional}, can you please answer a question\"),\n",
    "        (\"ai\", \"sure!\"),\n",
    "        (\"human\", \"{user_input}\")\n",
    "    ]\n",
    ")\n",
    "\n",
    "# Parse variables to the template\n",
    "messages = chat_template.format_messages(\n",
    "    professional=\"Historian\", \n",
    "    topic=\"The Kennedy Family\",\n",
    "    user_input=\"How many grandchildren had Joseph P. Kennedy?\"\n",
    ")\n",
    "\n",
    "# call the chatModel\n",
    "response = llamaChatModel.invoke(messages)\n",
    "\n",
    "# print the response\n",
    "print(response.content)\n"
   ]
  },
  {
   "cell_type": "markdown",
   "metadata": {},
   "source": [
    "# Old way of Templating"
   ]
  },
  {
   "cell_type": "code",
   "execution_count": 12,
   "metadata": {},
   "outputs": [],
   "source": [
    "from langchain_core.messages import SystemMessage\n",
    "from langchain_core.prompts import HumanMessagePromptTemplate\n",
    "\n",
    "chat_template = ChatPromptTemplate.from_messages(\n",
    "    [\n",
    "        SystemMessage(\n",
    "            content=(\n",
    "                \"You are an Historian expert on the Kennedy family.\"\n",
    "            )\n",
    "        ),\n",
    "        HumanMessagePromptTemplate.from_template(\"{user_input}\"),\n",
    "    ]\n",
    ")\n",
    "\n",
    "messages = chat_template.format_messages(\n",
    "    user_input=\"Name the children and grandchildren of Joseph P. Kennedy?\"\n",
    ")\n",
    "\n",
    "response = llamaChatModel.invoke(messages)"
   ]
  },
  {
   "cell_type": "code",
   "execution_count": 14,
   "metadata": {},
   "outputs": [
    {
     "name": "stdout",
     "output_type": "stream",
     "text": [
      "Joseph P. Kennedy Sr., the patriarch of the Kennedy family, had nine children with his wife Rose Fitzgerald Kennedy. Here are their names:\n",
      "\n",
      "1. Joseph P. Kennedy Jr. (1915-1944)\n",
      "2. John F. Kennedy (1917-1963)\n",
      "3. Rosemary Kennedy (1918-2005)\n",
      "4. Kathleen Kennedy (1920-1948)\n",
      "5. Eunice Kennedy (1921-2009)\n",
      "6. Patricia Kennedy (1924-2006)\n",
      "7. Robert F. Kennedy (1925-1968)\n",
      "8. Jean Kennedy (born 1928)\n",
      "9. Edward M. Kennedy (1932-2009)\n",
      "\n",
      "As for the grandchildren of Joseph P. Kennedy Sr., there are a total of 29 grandchildren from his nine children. Here are their names:\n",
      "\n",
      "**Children of Joseph P. Kennedy Jr.**\n",
      "\n",
      "* None (Joseph P. Kennedy Jr. died in 1944, before having children)\n",
      "\n",
      "**Children of John F. Kennedy**\n",
      "\n",
      "1. Arabella Kennedy (1956-1956) (stillborn)\n",
      "2. Caroline Bouvier Kennedy (born 1957)\n",
      "3. John Fitzgerald Kennedy Jr. (1960-1999)\n",
      "\n",
      "**Children of Rosemary Kennedy**\n",
      "\n",
      "* None (Rosemary Kennedy had intellectual disabilities and was institutionalized for most of her life)\n",
      "\n",
      "**Children of Kathleen Kennedy**\n",
      "\n",
      "* None (Kathleen Kennedy died in 1948, before having children)\n",
      "\n",
      "**Children of Eunice Kennedy**\n",
      "\n",
      "1. Maria Shriver (born 1955)\n",
      "2. Timothy Perry Shriver (born 1959)\n",
      "3. Mark Kennedy Shriver (born 1964)\n",
      "4. Anthony Paul Shriver (born 1965)\n",
      "5. Christopher Schwarzenegger (born 1990) (son with Arnold Schwarzenegger)\n",
      "\n",
      "**Children of Patricia Kennedy**\n",
      "\n",
      "1. Christopher Lawford (born 1955)\n",
      "2. Sydney Maleia Lawford (born 1956)\n",
      "3. Victoria Francis Lawford (born 1958)\n",
      "4. Robin Elizabeth Lawford (born 1961)\n",
      "\n",
      "**Children of Robert F. Kennedy**\n",
      "\n",
      "1. Kathleen Kennedy Townsend (born 1951)\n",
      "2. Joseph P. Kennedy II (born 1952)\n",
      "3. Robert F. Kennedy Jr. (born 1954)\n",
      "4. David Anthony Kennedy (1955-1984)\n",
      "5. Mary Richardson Kennedy (1959-2012)\n",
      "6. Michael LeMoyne Kennedy (1960-1997)\n",
      "7. Christopher George Kennedy (born 1963)\n",
      "8. Matthew Maxwell Taylor Kennedy (born 1965)\n",
      "9. Rory Kennedy (born 1968)\n",
      "\n",
      "**Children of Jean Kennedy**\n",
      "\n",
      "1. Stephen Edward Smith Jr. (born 1957)\n",
      "2. William Kennedy Smith (born 1960)\n",
      "3. Amanda Mary Smith (born 1967)\n",
      "4. Kym Maria Smith (born 1972)\n",
      "\n",
      "**Children of Edward M. Kennedy**\n",
      "\n",
      "1. Kara Anne Kennedy (1960-2011)\n",
      "2. Edward Moore Kennedy Jr. (born 1961)\n",
      "3. Patrick Joseph Kennedy II (born 1967)\n",
      "\n",
      "Please note that this list only includes the biological children and grandchildren of Joseph P. Kennedy Sr. and does not include step-children, adopted children, or great-grandchildren.\n"
     ]
    }
   ],
   "source": [
    "# Print Template\n",
    "print(response.content)"
   ]
  },
  {
   "cell_type": "markdown",
   "metadata": {},
   "source": [
    "## Few Shot Prompting\n",
    "You always have to give an example"
   ]
  },
  {
   "cell_type": "code",
   "execution_count": 16,
   "metadata": {},
   "outputs": [],
   "source": [
    "# import \n",
    "from langchain_core.prompts import FewShotChatMessagePromptTemplate\n",
    "\n",
    "# language translator from english to sppanish\n",
    "# you give english text and output: is spanish\n",
    "examples = [\n",
    "    {\"input\": \"hi!\", \"output\": \"¡hola!\"},\n",
    "    {\"input\": \"bye!\", \"output\": \"¡adiós!\"},\n",
    "]\n",
    "\n",
    "# 2. create template for example\n",
    "example_prompt = ChatPromptTemplate.from_messages(\n",
    "    [\n",
    "        (\"human\", \"{input}\"),\n",
    "        (\"ai\", \"{output}\"),\n",
    "    ]\n",
    ")\n",
    "\n",
    "# 3. Prepare the few shot template For the example_prompt\n",
    "few_shot_prompt = FewShotChatMessagePromptTemplate(\n",
    "       example_prompt=example_prompt,\n",
    "       examples=examples\n",
    ")\n",
    "\n",
    "# Create final chat prompt template\n",
    "final_prompt = ChatPromptTemplate.from_messages(\n",
    "    [\n",
    "        (\"system\", \"You're an English-Spanish translator\"),\n",
    "        few_shot_prompt,        # pasrse few shot template\n",
    "        (\"human\", \"{input}\"),   # user input passed\n",
    "    ]\n",
    ")\n"
   ]
  },
  {
   "cell_type": "markdown",
   "metadata": {},
   "source": [
    "### Chains\n",
    "\n",
    "It's more of a pipeline for LLM execution.\n",
    "- Prompt --> LLM --> Executable output\n",
    "- Link: https://python.langchain.com/v0.1/docs/modules/chains/"
   ]
  },
  {
   "cell_type": "code",
   "execution_count": 17,
   "metadata": {},
   "outputs": [
    {
     "name": "stdout",
     "output_type": "stream",
     "text": [
      "Estoy bien, ¿y tú?\n"
     ]
    }
   ],
   "source": [
    "# chains --> Pipe symbol\n",
    "chain = final_prompt | llamaChatModel\n",
    "\n",
    "# Invoke chain pass dictionary inputs\n",
    "res = chain.invoke({\"input\":\"How are you?\"})\n",
    "\n",
    "print(res.content)\n"
   ]
  },
  {
   "cell_type": "markdown",
   "metadata": {},
   "source": [
    "# Langchain Expressions Language"
   ]
  },
  {
   "cell_type": "markdown",
   "metadata": {},
   "source": [
    "## Output Parser"
   ]
  },
  {
   "cell_type": "code",
   "execution_count": 21,
   "metadata": {},
   "outputs": [],
   "source": [
    "# using a Completions Model\n",
    "from langchain_openai import OpenAI\n",
    "\n",
    "llmModel = OpenAI()"
   ]
  },
  {
   "cell_type": "code",
   "execution_count": 23,
   "metadata": {},
   "outputs": [],
   "source": [
    "from langchain_core.prompts import PromptTemplate\n",
    "# For chat model using a \"ChatPromptTemplate\"\n",
    "from langchain.output_parsers.json import SimpleJsonOutputParser\n",
    "\n",
    "# return a json output\n",
    "json_prompt = PromptTemplate.from_template(\n",
    "    \"Return a JSON object with an 'answer' key that answers the following question: {question}\"\n",
    ")\n",
    "\n",
    "# create a parser object to be my output\n",
    "json_parser = SimpleJsonOutputParser()\n",
    "\n",
    "json_chain = json_prompt | llmModel | json_parser   # using a Completions Model\n"
   ]
  },
  {
   "cell_type": "code",
   "execution_count": 26,
   "metadata": {},
   "outputs": [
    {
     "data": {
      "text/plain": [
       "{'answer': 'Russia'}"
      ]
     },
     "execution_count": 26,
     "metadata": {},
     "output_type": "execute_result"
    }
   ],
   "source": [
    "# Invoke\n",
    "res = json_chain.invoke({\"question\":\"What is the biggest country?\"})\n",
    "res"
   ]
  },
  {
   "cell_type": "code",
   "execution_count": 27,
   "metadata": {},
   "outputs": [
    {
     "data": {
      "text/plain": [
       "dict"
      ]
     },
     "execution_count": 27,
     "metadata": {},
     "output_type": "execute_result"
    }
   ],
   "source": [
    "# check the datatype\n",
    "type(res)"
   ]
  },
  {
   "cell_type": "markdown",
   "metadata": {},
   "source": [
    "### Optionally, you can use Pydantic to define a custom output format"
   ]
  },
  {
   "cell_type": "code",
   "execution_count": 28,
   "metadata": {},
   "outputs": [],
   "source": [
    "from langchain_core.output_parsers import JsonOutputParser\n",
    "from langchain_core.prompts import PromptTemplate\n",
    "from langchain_core.pydantic_v1 import BaseModel, Field"
   ]
  },
  {
   "cell_type": "code",
   "execution_count": 31,
   "metadata": {},
   "outputs": [],
   "source": [
    "# Define a Pydantic Object with the desired output format\n",
    "class Joke(BaseModel):\n",
    "    setup:str = Field(description=\"question to set up a joke\")\n",
    "    punchline:str = Field(description=\"answer to resolve the joke\")"
   ]
  },
  {
   "cell_type": "code",
   "execution_count": 35,
   "metadata": {},
   "outputs": [
    {
     "data": {
      "text/plain": [
       "'Return a JSON object.'"
      ]
     },
     "execution_count": 35,
     "metadata": {},
     "output_type": "execute_result"
    }
   ],
   "source": [
    "# Example of format instructions\n",
    "json_parser.get_format_instructions()"
   ]
  },
  {
   "cell_type": "code",
   "execution_count": 37,
   "metadata": {},
   "outputs": [
    {
     "data": {
      "text/plain": [
       "{'setup': 'Why did the tomato turn red?',\n",
       " 'punchline': 'Because it saw the salad dressing!'}"
      ]
     },
     "execution_count": 37,
     "metadata": {},
     "output_type": "execute_result"
    }
   ],
   "source": [
    "# Define the parser referring the Pydantic Object\n",
    "parser = JsonOutputParser(pydantic_object=Joke)\n",
    "\n",
    "# Add the parser format instructions in the prompt definition.\n",
    "prompt = PromptTemplate(\n",
    "    template=\"Answer the user query.\\n{format_instructions}\\n{query}\\n\",\n",
    "    input_variables=[\"query\"],\n",
    "    partial_variables={\"format_instructions\": parser.get_format_instructions()},\n",
    ")\n",
    "\n",
    "# Create a chain with the prompt and the parser\n",
    "chain = prompt | llmModel | parser\n",
    "\n",
    "# Invoke the chain\n",
    "chain.invoke({\"query\":\"Tell me a joke\"})\n"
   ]
  },
  {
   "cell_type": "code",
   "execution_count": null,
   "metadata": {},
   "outputs": [],
   "source": []
  }
 ],
 "metadata": {
  "kernelspec": {
   "display_name": "llmapp",
   "language": "python",
   "name": "python3"
  },
  "language_info": {
   "codemirror_mode": {
    "name": "ipython",
    "version": 3
   },
   "file_extension": ".py",
   "mimetype": "text/x-python",
   "name": "python",
   "nbconvert_exporter": "python",
   "pygments_lexer": "ipython3",
   "version": "3.11.10"
  }
 },
 "nbformat": 4,
 "nbformat_minor": 2
}
