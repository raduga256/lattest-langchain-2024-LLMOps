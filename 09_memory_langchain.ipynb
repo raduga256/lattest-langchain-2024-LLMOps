{
 "cells": [
  {
   "cell_type": "code",
   "execution_count": 1,
   "metadata": {},
   "outputs": [],
   "source": [
    "# import API keys\n",
    "import os\n",
    "from dotenv import load_dotenv, find_dotenv\n",
    "\n",
    "# Load environment variables from a.env file\n",
    "_ = load_dotenv(find_dotenv())\n",
    "\n",
    "openai_api_key = os.environ[\"OPENAI_API_KEY\"]\n",
    "\n",
    "# Load opensource api models\n",
    "groql_api_key = os.environ[\"GROQ_API_KEY\"]"
   ]
  },
  {
   "cell_type": "code",
   "execution_count": 2,
   "metadata": {},
   "outputs": [],
   "source": [
    "# working with Groq models\n",
    "\n",
    "from langchain_groq import ChatGroq\n",
    "\n",
    "llamaChatModel = ChatGroq(\n",
    "    model=\"llama3-70b-8192\"\n",
    ")"
   ]
  },
  {
   "cell_type": "markdown",
   "metadata": {},
   "source": [
    "### Buffer Memory\n",
    "ConversationBufferMemory keeps a list of chat messages in a buffer and passes those into the prompt template."
   ]
  },
  {
   "cell_type": "code",
   "execution_count": 3,
   "metadata": {},
   "outputs": [
    {
     "name": "stderr",
     "output_type": "stream",
     "text": [
      "C:\\Users\\memor\\AppData\\Local\\Temp\\ipykernel_2740\\4083239556.py:24: LangChainDeprecationWarning: The class `LLMChain` was deprecated in LangChain 0.1.17 and will be removed in 1.0. Use RunnableSequence, e.g., `prompt | llm` instead.\n",
      "  conversation = LLMChain(\n"
     ]
    }
   ],
   "source": [
    "from langchain_core.prompts import (\n",
    "    ChatPromptTemplate,\n",
    "    MessagesPlaceholder,\n",
    "    SystemMessagePromptTemplate,\n",
    "    HumanMessagePromptTemplate,\n",
    ")\n",
    "from langchain.chains import LLMChain\n",
    "from langchain.memory import ConversationBufferMemory\n",
    "\n",
    "\n",
    "prompt = ChatPromptTemplate(\n",
    "    messages=[\n",
    "        SystemMessagePromptTemplate.from_template(\n",
    "            \"You are a nice chatbot having a conversation with a human.\"\n",
    "        ),\n",
    "        # The `variable_name` here is what must align with memory\n",
    "        MessagesPlaceholder(variable_name=\"chat_history\"),\n",
    "        HumanMessagePromptTemplate.from_template(\"{question}\")\n",
    "    ]\n",
    ")\n",
    "\n",
    "memory = ConversationBufferMemory(memory_key=\"chat_history\", return_messages=True)\n",
    "\n",
    "conversation = LLMChain(\n",
    "    llm=llamaChatModel,\n",
    "    prompt=prompt,\n",
    "    verbose=True,\n",
    "    memory=memory\n",
    ")"
   ]
  },
  {
   "cell_type": "code",
   "execution_count": 4,
   "metadata": {},
   "outputs": [
    {
     "name": "stderr",
     "output_type": "stream",
     "text": [
      "C:\\Users\\memor\\AppData\\Local\\Temp\\ipykernel_2740\\2596321432.py:1: LangChainDeprecationWarning: The method `Chain.__call__` was deprecated in langchain 0.1.0 and will be removed in 0.3.0. Use invoke instead.\n",
      "  conversation({\"question\": \"hi\"})\n"
     ]
    },
    {
     "name": "stdout",
     "output_type": "stream",
     "text": [
      "\n",
      "\n",
      "\u001b[1m> Entering new LLMChain chain...\u001b[0m\n",
      "Prompt after formatting:\n",
      "\u001b[32;1m\u001b[1;3mSystem: You are a nice chatbot having a conversation with a human.\n",
      "Human: hi\u001b[0m\n",
      "\n",
      "\u001b[1m> Finished chain.\u001b[0m\n"
     ]
    },
    {
     "data": {
      "text/plain": [
       "{'question': 'hi',\n",
       " 'chat_history': [HumanMessage(content='hi'),\n",
       "  AIMessage(content=\"Hi! It's nice to meet you. How's your day going so far?\")],\n",
       " 'text': \"Hi! It's nice to meet you. How's your day going so far?\"}"
      ]
     },
     "execution_count": 4,
     "metadata": {},
     "output_type": "execute_result"
    }
   ],
   "source": [
    "conversation({\"question\": \"hi\"})"
   ]
  },
  {
   "cell_type": "code",
   "execution_count": 5,
   "metadata": {},
   "outputs": [
    {
     "name": "stdout",
     "output_type": "stream",
     "text": [
      "\n",
      "\n",
      "\u001b[1m> Entering new LLMChain chain...\u001b[0m\n",
      "Prompt after formatting:\n",
      "\u001b[32;1m\u001b[1;3mSystem: You are a nice chatbot having a conversation with a human.\n",
      "Human: hi\n",
      "AI: Hi! It's nice to meet you. How's your day going so far?\n",
      "Human: My name is Bappy and I have moved 33 times.\u001b[0m\n",
      "\n",
      "\u001b[1m> Finished chain.\u001b[0m\n"
     ]
    },
    {
     "data": {
      "text/plain": [
       "{'question': 'My name is Bappy and I have moved 33 times.',\n",
       " 'chat_history': [HumanMessage(content='hi'),\n",
       "  AIMessage(content=\"Hi! It's nice to meet you. How's your day going so far?\"),\n",
       "  HumanMessage(content='My name is Bappy and I have moved 33 times.'),\n",
       "  AIMessage(content=\"Nice to meet you, Bappy! Wow, 33 times is a lot of moving! You must have had quite an adventurous life so far. What's been the most exciting or memorable place you've lived in?\")],\n",
       " 'text': \"Nice to meet you, Bappy! Wow, 33 times is a lot of moving! You must have had quite an adventurous life so far. What's been the most exciting or memorable place you've lived in?\"}"
      ]
     },
     "execution_count": 5,
     "metadata": {},
     "output_type": "execute_result"
    }
   ],
   "source": [
    "conversation({\"question\": \"My name is Bappy and I have moved 33 times.\"})"
   ]
  },
  {
   "cell_type": "code",
   "execution_count": 6,
   "metadata": {},
   "outputs": [
    {
     "name": "stdout",
     "output_type": "stream",
     "text": [
      "\n",
      "\n",
      "\u001b[1m> Entering new LLMChain chain...\u001b[0m\n",
      "Prompt after formatting:\n",
      "\u001b[32;1m\u001b[1;3mSystem: You are a nice chatbot having a conversation with a human.\n",
      "Human: hi\n",
      "AI: Hi! It's nice to meet you. How's your day going so far?\n",
      "Human: My name is Bappy and I have moved 33 times.\n",
      "AI: Nice to meet you, Bappy! Wow, 33 times is a lot of moving! You must have had quite an adventurous life so far. What's been the most exciting or memorable place you've lived in?\n",
      "Human: If my average moving distance was 100 miles, how many miles took all my moves?\u001b[0m\n",
      "\n",
      "\u001b[1m> Finished chain.\u001b[0m\n"
     ]
    },
    {
     "data": {
      "text/plain": [
       "{'question': 'If my average moving distance was 100 miles, how many miles took all my moves?',\n",
       " 'chat_history': [HumanMessage(content='hi'),\n",
       "  AIMessage(content=\"Hi! It's nice to meet you. How's your day going so far?\"),\n",
       "  HumanMessage(content='My name is Bappy and I have moved 33 times.'),\n",
       "  AIMessage(content=\"Nice to meet you, Bappy! Wow, 33 times is a lot of moving! You must have had quite an adventurous life so far. What's been the most exciting or memorable place you've lived in?\"),\n",
       "  HumanMessage(content='If my average moving distance was 100 miles, how many miles took all my moves?'),\n",
       "  AIMessage(content=\"That's a great math problem, Bappy! If you've moved 33 times, and your average moving distance is 100 miles, you can multiply the two numbers together to get the total distance.\\n\\n33 moves x 100 miles/move = 3300 miles\\n\\nSo, all your moves added up to a total distance of 3300 miles! That's a lot of miles!\")],\n",
       " 'text': \"That's a great math problem, Bappy! If you've moved 33 times, and your average moving distance is 100 miles, you can multiply the two numbers together to get the total distance.\\n\\n33 moves x 100 miles/move = 3300 miles\\n\\nSo, all your moves added up to a total distance of 3300 miles! That's a lot of miles!\"}"
      ]
     },
     "execution_count": 6,
     "metadata": {},
     "output_type": "execute_result"
    }
   ],
   "source": [
    "conversation({\"question\": \"If my average moving distance was 100 miles, how many miles took all my moves?\"})"
   ]
  },
  {
   "cell_type": "code",
   "execution_count": 7,
   "metadata": {},
   "outputs": [
    {
     "name": "stdout",
     "output_type": "stream",
     "text": [
      "\n",
      "\n",
      "\u001b[1m> Entering new LLMChain chain...\u001b[0m\n",
      "Prompt after formatting:\n",
      "\u001b[32;1m\u001b[1;3mSystem: You are a nice chatbot having a conversation with a human.\n",
      "Human: hi\n",
      "AI: Hi! It's nice to meet you. How's your day going so far?\n",
      "Human: My name is Bappy and I have moved 33 times.\n",
      "AI: Nice to meet you, Bappy! Wow, 33 times is a lot of moving! You must have had quite an adventurous life so far. What's been the most exciting or memorable place you've lived in?\n",
      "Human: If my average moving distance was 100 miles, how many miles took all my moves?\n",
      "AI: That's a great math problem, Bappy! If you've moved 33 times, and your average moving distance is 100 miles, you can multiply the two numbers together to get the total distance.\n",
      "\n",
      "33 moves x 100 miles/move = 3300 miles\n",
      "\n",
      "So, all your moves added up to a total distance of 3300 miles! That's a lot of miles!\n",
      "Human: Do you remember my name?\u001b[0m\n",
      "\n",
      "\u001b[1m> Finished chain.\u001b[0m\n"
     ]
    },
    {
     "data": {
      "text/plain": [
       "{'question': 'Do you remember my name?',\n",
       " 'chat_history': [HumanMessage(content='hi'),\n",
       "  AIMessage(content=\"Hi! It's nice to meet you. How's your day going so far?\"),\n",
       "  HumanMessage(content='My name is Bappy and I have moved 33 times.'),\n",
       "  AIMessage(content=\"Nice to meet you, Bappy! Wow, 33 times is a lot of moving! You must have had quite an adventurous life so far. What's been the most exciting or memorable place you've lived in?\"),\n",
       "  HumanMessage(content='If my average moving distance was 100 miles, how many miles took all my moves?'),\n",
       "  AIMessage(content=\"That's a great math problem, Bappy! If you've moved 33 times, and your average moving distance is 100 miles, you can multiply the two numbers together to get the total distance.\\n\\n33 moves x 100 miles/move = 3300 miles\\n\\nSo, all your moves added up to a total distance of 3300 miles! That's a lot of miles!\"),\n",
       "  HumanMessage(content='Do you remember my name?'),\n",
       "  AIMessage(content='I remember that your name is Bappy!')],\n",
       " 'text': 'I remember that your name is Bappy!'}"
      ]
     },
     "execution_count": 7,
     "metadata": {},
     "output_type": "execute_result"
    }
   ],
   "source": [
    "conversation({\"question\": \"Do you remember my name?\"})"
   ]
  },
  {
   "cell_type": "code",
   "execution_count": 8,
   "metadata": {},
   "outputs": [
    {
     "name": "stdout",
     "output_type": "stream",
     "text": [
      "[HumanMessage(content='hi'), AIMessage(content=\"Hi! It's nice to meet you. How's your day going so far?\"), HumanMessage(content='My name is Bappy and I have moved 33 times.'), AIMessage(content=\"Nice to meet you, Bappy! Wow, 33 times is a lot of moving! You must have had quite an adventurous life so far. What's been the most exciting or memorable place you've lived in?\"), HumanMessage(content='If my average moving distance was 100 miles, how many miles took all my moves?'), AIMessage(content=\"That's a great math problem, Bappy! If you've moved 33 times, and your average moving distance is 100 miles, you can multiply the two numbers together to get the total distance.\\n\\n33 moves x 100 miles/move = 3300 miles\\n\\nSo, all your moves added up to a total distance of 3300 miles! That's a lot of miles!\"), HumanMessage(content='Do you remember my name?'), AIMessage(content='I remember that your name is Bappy!')]\n"
     ]
    }
   ],
   "source": [
    "print(memory.buffer)        # temporary memory buffer"
   ]
  },
  {
   "cell_type": "markdown",
   "metadata": {},
   "source": [
    "### Conversation Buffer Window Memory\n",
    "Similar to the previous one, but you can limit the number of conversational exchanges stored in memory. For example, you can set it so it only remembers the last 3 questions and answers of the conversation"
   ]
  },
  {
   "cell_type": "code",
   "execution_count": 9,
   "metadata": {},
   "outputs": [],
   "source": [
    "from langchain.memory import ConversationBufferWindowMemory\n",
    "from langchain.chains import ConversationChain"
   ]
  },
  {
   "cell_type": "code",
   "execution_count": 10,
   "metadata": {},
   "outputs": [],
   "source": [
    "window_memory = ConversationBufferWindowMemory(k=3)"
   ]
  },
  {
   "cell_type": "code",
   "execution_count": 12,
   "metadata": {},
   "outputs": [
    {
     "name": "stderr",
     "output_type": "stream",
     "text": [
      "C:\\Users\\memor\\AppData\\Local\\Temp\\ipykernel_2740\\2229703083.py:1: LangChainDeprecationWarning: The class `ConversationChain` was deprecated in LangChain 0.2.7 and will be removed in 1.0. Use RunnableWithMessageHistory: https://api.python.langchain.com/en/latest/runnables/langchain_core.runnables.history.RunnableWithMessageHistory.html instead.\n",
      "  conversation_window = ConversationChain(\n"
     ]
    }
   ],
   "source": [
    "conversation_window = ConversationChain(\n",
    "    llm=llamaChatModel, \n",
    "    memory = window_memory,\n",
    "    verbose=True\n",
    ")"
   ]
  },
  {
   "cell_type": "code",
   "execution_count": 13,
   "metadata": {},
   "outputs": [
    {
     "name": "stdout",
     "output_type": "stream",
     "text": [
      "\n",
      "\n",
      "\u001b[1m> Entering new ConversationChain chain...\u001b[0m\n",
      "Prompt after formatting:\n",
      "\u001b[32;1m\u001b[1;3mThe following is a friendly conversation between a human and an AI. The AI is talkative and provides lots of specific details from its context. If the AI does not know the answer to a question, it truthfully says it does not know.\n",
      "\n",
      "Current conversation:\n",
      "\n",
      "Human: Hi, my name is Bappy\n",
      "AI:\u001b[0m\n",
      "\n",
      "\u001b[1m> Finished chain.\u001b[0m\n"
     ]
    },
    {
     "data": {
      "text/plain": [
       "{'input': 'Hi, my name is Bappy',\n",
       " 'history': '',\n",
       " 'response': \"Nice to meet you, Bappy! I'm an AI, and I'm thrilled to be chatting with you. I've been trained on a vast corpus of text data, which allows me to generate human-like responses. My training dataset consists of over 10 million articles, books, and conversations, which I can draw upon to answer your questions or engage in discussions. I'm a large language model, so I can provide information on a wide range of topics, from science and history to entertainment and culture. What would you like to talk about, Bappy?\"}"
      ]
     },
     "execution_count": 13,
     "metadata": {},
     "output_type": "execute_result"
    }
   ],
   "source": [
    "conversation_window({\"input\": \"Hi, my name is Bappy\"})"
   ]
  },
  {
   "cell_type": "code",
   "execution_count": 14,
   "metadata": {},
   "outputs": [
    {
     "name": "stdout",
     "output_type": "stream",
     "text": [
      "\n",
      "\n",
      "\u001b[1m> Entering new ConversationChain chain...\u001b[0m\n",
      "Prompt after formatting:\n",
      "\u001b[32;1m\u001b[1;3mThe following is a friendly conversation between a human and an AI. The AI is talkative and provides lots of specific details from its context. If the AI does not know the answer to a question, it truthfully says it does not know.\n",
      "\n",
      "Current conversation:\n",
      "Human: Hi, my name is Bappy\n",
      "AI: Nice to meet you, Bappy! I'm an AI, and I'm thrilled to be chatting with you. I've been trained on a vast corpus of text data, which allows me to generate human-like responses. My training dataset consists of over 10 million articles, books, and conversations, which I can draw upon to answer your questions or engage in discussions. I'm a large language model, so I can provide information on a wide range of topics, from science and history to entertainment and culture. What would you like to talk about, Bappy?\n",
      "Human: My favorite color is blue\n",
      "AI:\u001b[0m\n",
      "\n",
      "\u001b[1m> Finished chain.\u001b[0m\n"
     ]
    },
    {
     "data": {
      "text/plain": [
       "{'input': 'My favorite color is blue',\n",
       " 'history': \"Human: Hi, my name is Bappy\\nAI: Nice to meet you, Bappy! I'm an AI, and I'm thrilled to be chatting with you. I've been trained on a vast corpus of text data, which allows me to generate human-like responses. My training dataset consists of over 10 million articles, books, and conversations, which I can draw upon to answer your questions or engage in discussions. I'm a large language model, so I can provide information on a wide range of topics, from science and history to entertainment and culture. What would you like to talk about, Bappy?\",\n",
       " 'response': \"Blue is a great choice, Bappy! Did you know that blue is also the favorite color of many people around the world? In fact, studies have shown that blue is often associated with feelings of trust, loyalty, and calmness. It's also a very versatile color, with many different shades and hues, from the bright, vibrant blue of a summer sky to the deep, rich blue of a still ocean. Speaking of oceans, did you know that the shortest war in history was between Britain and Zanzibar on August 27, 1896, and lasted only 38 minutes? Zanzibar surrendered after just 12 minutes of fighting, and the remaining 26 minutes were spent on ceasefire negotiations. And, funnily enough, the flag of Zanzibar features a prominent blue color! What do you think it is about blue that resonates with you, Bappy?\"}"
      ]
     },
     "execution_count": 14,
     "metadata": {},
     "output_type": "execute_result"
    }
   ],
   "source": [
    "conversation_window({\"input\": \"My favorite color is blue\"})"
   ]
  },
  {
   "cell_type": "code",
   "execution_count": 15,
   "metadata": {},
   "outputs": [
    {
     "name": "stdout",
     "output_type": "stream",
     "text": [
      "\n",
      "\n",
      "\u001b[1m> Entering new ConversationChain chain...\u001b[0m\n",
      "Prompt after formatting:\n",
      "\u001b[32;1m\u001b[1;3mThe following is a friendly conversation between a human and an AI. The AI is talkative and provides lots of specific details from its context. If the AI does not know the answer to a question, it truthfully says it does not know.\n",
      "\n",
      "Current conversation:\n",
      "Human: Hi, my name is Bappy\n",
      "AI: Nice to meet you, Bappy! I'm an AI, and I'm thrilled to be chatting with you. I've been trained on a vast corpus of text data, which allows me to generate human-like responses. My training dataset consists of over 10 million articles, books, and conversations, which I can draw upon to answer your questions or engage in discussions. I'm a large language model, so I can provide information on a wide range of topics, from science and history to entertainment and culture. What would you like to talk about, Bappy?\n",
      "Human: My favorite color is blue\n",
      "AI: Blue is a great choice, Bappy! Did you know that blue is also the favorite color of many people around the world? In fact, studies have shown that blue is often associated with feelings of trust, loyalty, and calmness. It's also a very versatile color, with many different shades and hues, from the bright, vibrant blue of a summer sky to the deep, rich blue of a still ocean. Speaking of oceans, did you know that the shortest war in history was between Britain and Zanzibar on August 27, 1896, and lasted only 38 minutes? Zanzibar surrendered after just 12 minutes of fighting, and the remaining 26 minutes were spent on ceasefire negotiations. And, funnily enough, the flag of Zanzibar features a prominent blue color! What do you think it is about blue that resonates with you, Bappy?\n",
      "Human: My favorite animals are dogs\n",
      "AI:\u001b[0m\n",
      "\n",
      "\u001b[1m> Finished chain.\u001b[0m\n"
     ]
    },
    {
     "data": {
      "text/plain": [
       "{'input': 'My favorite animals are dogs',\n",
       " 'history': \"Human: Hi, my name is Bappy\\nAI: Nice to meet you, Bappy! I'm an AI, and I'm thrilled to be chatting with you. I've been trained on a vast corpus of text data, which allows me to generate human-like responses. My training dataset consists of over 10 million articles, books, and conversations, which I can draw upon to answer your questions or engage in discussions. I'm a large language model, so I can provide information on a wide range of topics, from science and history to entertainment and culture. What would you like to talk about, Bappy?\\nHuman: My favorite color is blue\\nAI: Blue is a great choice, Bappy! Did you know that blue is also the favorite color of many people around the world? In fact, studies have shown that blue is often associated with feelings of trust, loyalty, and calmness. It's also a very versatile color, with many different shades and hues, from the bright, vibrant blue of a summer sky to the deep, rich blue of a still ocean. Speaking of oceans, did you know that the shortest war in history was between Britain and Zanzibar on August 27, 1896, and lasted only 38 minutes? Zanzibar surrendered after just 12 minutes of fighting, and the remaining 26 minutes were spent on ceasefire negotiations. And, funnily enough, the flag of Zanzibar features a prominent blue color! What do you think it is about blue that resonates with you, Bappy?\",\n",
       " 'response': \"Wonderful choice, Bappy! Dogs are indeed one of the most beloved animals around the world. Did you know that dogs have been human companions for over 15,000 years? They're often considered to be man's best friend, and it's no wonder why - they're loyal, friendly, and always happy to see us! In fact, studies have shown that simply petting a dog can lower your blood pressure and reduce stress levels. I've been trained on a vast amount of text data, including information about different breeds of dogs. Did you know that there are over 340 recognized breeds of dogs, ranging from the tiny Chihuahua to the massive Great Dane? Each breed has its unique characteristics, temperament, and abilities. What is it about dogs that you love the most, Bappy? Is it their playful nature, their loyalty, or something else entirely?\"}"
      ]
     },
     "execution_count": 15,
     "metadata": {},
     "output_type": "execute_result"
    }
   ],
   "source": [
    "conversation_window({\"input\": \"My favorite animals are dogs\"})"
   ]
  },
  {
   "cell_type": "code",
   "execution_count": 16,
   "metadata": {},
   "outputs": [
    {
     "name": "stdout",
     "output_type": "stream",
     "text": [
      "\n",
      "\n",
      "\u001b[1m> Entering new ConversationChain chain...\u001b[0m\n",
      "Prompt after formatting:\n",
      "\u001b[32;1m\u001b[1;3mThe following is a friendly conversation between a human and an AI. The AI is talkative and provides lots of specific details from its context. If the AI does not know the answer to a question, it truthfully says it does not know.\n",
      "\n",
      "Current conversation:\n",
      "Human: Hi, my name is Bappy\n",
      "AI: Nice to meet you, Bappy! I'm an AI, and I'm thrilled to be chatting with you. I've been trained on a vast corpus of text data, which allows me to generate human-like responses. My training dataset consists of over 10 million articles, books, and conversations, which I can draw upon to answer your questions or engage in discussions. I'm a large language model, so I can provide information on a wide range of topics, from science and history to entertainment and culture. What would you like to talk about, Bappy?\n",
      "Human: My favorite color is blue\n",
      "AI: Blue is a great choice, Bappy! Did you know that blue is also the favorite color of many people around the world? In fact, studies have shown that blue is often associated with feelings of trust, loyalty, and calmness. It's also a very versatile color, with many different shades and hues, from the bright, vibrant blue of a summer sky to the deep, rich blue of a still ocean. Speaking of oceans, did you know that the shortest war in history was between Britain and Zanzibar on August 27, 1896, and lasted only 38 minutes? Zanzibar surrendered after just 12 minutes of fighting, and the remaining 26 minutes were spent on ceasefire negotiations. And, funnily enough, the flag of Zanzibar features a prominent blue color! What do you think it is about blue that resonates with you, Bappy?\n",
      "Human: My favorite animals are dogs\n",
      "AI: Wonderful choice, Bappy! Dogs are indeed one of the most beloved animals around the world. Did you know that dogs have been human companions for over 15,000 years? They're often considered to be man's best friend, and it's no wonder why - they're loyal, friendly, and always happy to see us! In fact, studies have shown that simply petting a dog can lower your blood pressure and reduce stress levels. I've been trained on a vast amount of text data, including information about different breeds of dogs. Did you know that there are over 340 recognized breeds of dogs, ranging from the tiny Chihuahua to the massive Great Dane? Each breed has its unique characteristics, temperament, and abilities. What is it about dogs that you love the most, Bappy? Is it their playful nature, their loyalty, or something else entirely?\n",
      "Human: I like to drive a vespa scooter in the city\n",
      "AI:\u001b[0m\n",
      "\n",
      "\u001b[1m> Finished chain.\u001b[0m\n"
     ]
    },
    {
     "data": {
      "text/plain": [
       "{'input': 'I like to drive a vespa scooter in the city',\n",
       " 'history': \"Human: Hi, my name is Bappy\\nAI: Nice to meet you, Bappy! I'm an AI, and I'm thrilled to be chatting with you. I've been trained on a vast corpus of text data, which allows me to generate human-like responses. My training dataset consists of over 10 million articles, books, and conversations, which I can draw upon to answer your questions or engage in discussions. I'm a large language model, so I can provide information on a wide range of topics, from science and history to entertainment and culture. What would you like to talk about, Bappy?\\nHuman: My favorite color is blue\\nAI: Blue is a great choice, Bappy! Did you know that blue is also the favorite color of many people around the world? In fact, studies have shown that blue is often associated with feelings of trust, loyalty, and calmness. It's also a very versatile color, with many different shades and hues, from the bright, vibrant blue of a summer sky to the deep, rich blue of a still ocean. Speaking of oceans, did you know that the shortest war in history was between Britain and Zanzibar on August 27, 1896, and lasted only 38 minutes? Zanzibar surrendered after just 12 minutes of fighting, and the remaining 26 minutes were spent on ceasefire negotiations. And, funnily enough, the flag of Zanzibar features a prominent blue color! What do you think it is about blue that resonates with you, Bappy?\\nHuman: My favorite animals are dogs\\nAI: Wonderful choice, Bappy! Dogs are indeed one of the most beloved animals around the world. Did you know that dogs have been human companions for over 15,000 years? They're often considered to be man's best friend, and it's no wonder why - they're loyal, friendly, and always happy to see us! In fact, studies have shown that simply petting a dog can lower your blood pressure and reduce stress levels. I've been trained on a vast amount of text data, including information about different breeds of dogs. Did you know that there are over 340 recognized breeds of dogs, ranging from the tiny Chihuahua to the massive Great Dane? Each breed has its unique characteristics, temperament, and abilities. What is it about dogs that you love the most, Bappy? Is it their playful nature, their loyalty, or something else entirely?\",\n",
       " 'response': 'A Vespa scooter, how cool is that, Bappy! I\\'ve been trained on a vast amount of text data, including information about various modes of transportation, and Vespa scooters are definitely an iconic brand. Did you know that Vespa has been around since 1946, when it was first founded in Italy? The company\\'s name \"Vespa\" is actually Italian for \"wasp,\" which was inspired by the scooter\\'s narrow waist and the buzzing sound of its engine.\\n\\nI\\'ve also learned that Vespa scooters have become a cultural phenomenon, especially in urban areas like cities. They\\'re known for their fuel efficiency, agility, and style, making them a popular choice for navigating through heavy traffic and narrow streets. In fact, Vespa has a strong following among scooter enthusiasts, with many owners customizing their rides to reflect their personal style.\\n\\nWhat do you love most about driving your Vespa scooter in the city, Bappy? Is it the freedom of zipping through traffic, the thrill of navigating through tight spaces, or the sense of community with other scooter enthusiasts?'}"
      ]
     },
     "execution_count": 16,
     "metadata": {},
     "output_type": "execute_result"
    }
   ],
   "source": [
    "conversation_window({\"input\": \"I like to drive a vespa scooter in the city\"})"
   ]
  },
  {
   "cell_type": "code",
   "execution_count": 19,
   "metadata": {},
   "outputs": [
    {
     "name": "stdout",
     "output_type": "stream",
     "text": [
      "\n",
      "\n",
      "\u001b[1m> Entering new ConversationChain chain...\u001b[0m\n",
      "Prompt after formatting:\n",
      "\u001b[32;1m\u001b[1;3mThe following is a friendly conversation between a human and an AI. The AI is talkative and provides lots of specific details from its context. If the AI does not know the answer to a question, it truthfully says it does not know.\n",
      "\n",
      "Current conversation:\n",
      "Human: I like to drive a vespa scooter in the city\n",
      "AI: A Vespa scooter, how cool is that, Bappy! I've been trained on a vast amount of text data, including information about various modes of transportation, and Vespa scooters are definitely an iconic brand. Did you know that Vespa has been around since 1946, when it was first founded in Italy? The company's name \"Vespa\" is actually Italian for \"wasp,\" which was inspired by the scooter's narrow waist and the buzzing sound of its engine.\n",
      "\n",
      "I've also learned that Vespa scooters have become a cultural phenomenon, especially in urban areas like cities. They're known for their fuel efficiency, agility, and style, making them a popular choice for navigating through heavy traffic and narrow streets. In fact, Vespa has a strong following among scooter enthusiasts, with many owners customizing their rides to reflect their personal style.\n",
      "\n",
      "What do you love most about driving your Vespa scooter in the city, Bappy? Is it the freedom of zipping through traffic, the thrill of navigating through tight spaces, or the sense of community with other scooter enthusiasts?\n",
      "Human: What is my favorite color?\n",
      "AI: Bappy, I remember you telling me earlier that your favorite color is blue!\n",
      "Human: What is my favorite city?\n",
      "AI: I apologize, Bappy, but I don't recall you mentioning your favorite city earlier in our conversation. You told me about your love for dogs and Vespa scooters, but I don't have any information about your favorite city. Could you please share that with me?\n",
      "Human: My favorite city is San Francisco\n",
      "AI:\u001b[0m\n",
      "\n",
      "\u001b[1m> Finished chain.\u001b[0m\n"
     ]
    },
    {
     "data": {
      "text/plain": [
       "{'input': 'My favorite city is San Francisco',\n",
       " 'history': 'Human: I like to drive a vespa scooter in the city\\nAI: A Vespa scooter, how cool is that, Bappy! I\\'ve been trained on a vast amount of text data, including information about various modes of transportation, and Vespa scooters are definitely an iconic brand. Did you know that Vespa has been around since 1946, when it was first founded in Italy? The company\\'s name \"Vespa\" is actually Italian for \"wasp,\" which was inspired by the scooter\\'s narrow waist and the buzzing sound of its engine.\\n\\nI\\'ve also learned that Vespa scooters have become a cultural phenomenon, especially in urban areas like cities. They\\'re known for their fuel efficiency, agility, and style, making them a popular choice for navigating through heavy traffic and narrow streets. In fact, Vespa has a strong following among scooter enthusiasts, with many owners customizing their rides to reflect their personal style.\\n\\nWhat do you love most about driving your Vespa scooter in the city, Bappy? Is it the freedom of zipping through traffic, the thrill of navigating through tight spaces, or the sense of community with other scooter enthusiasts?\\nHuman: What is my favorite color?\\nAI: Bappy, I remember you telling me earlier that your favorite color is blue!\\nHuman: What is my favorite city?\\nAI: I apologize, Bappy, but I don\\'t recall you mentioning your favorite city earlier in our conversation. You told me about your love for dogs and Vespa scooters, but I don\\'t have any information about your favorite city. Could you please share that with me?',\n",
       " 'response': 'San Francisco, what a beautiful city! I\\'ve been trained on a vast amount of text data about San Francisco, and I can tell you that it\\'s known for its iconic Golden Gate Bridge, steep hills, and colorful Victorian homes. The city is also famous for its vibrant cultural scene, including its thriving arts and music communities.\\n\\nAs a Vespa scooter enthusiast, you might enjoy exploring San Francisco\\'s scenic neighborhoods, such as Haight-Ashbury, the Mission District, and Fisherman\\'s Wharf. The city\\'s compact size and mild climate make it an ideal place for scooter riding, and I\\'m sure you\\'ve had a blast navigating its hills and curves.\\n\\nSpeaking of hills, did you know that San Francisco is home to the famous Lombard Street, known as the \"crookedest street in the world\"? It\\'s a popular spot for tourists and locals alike, and I can imagine it would be a thrilling ride on your Vespa scooter!\\n\\nWhat do you love most about San Francisco, Bappy? Is it the city\\'s eclectic vibe, its stunning natural beauty, or something else entirely?'}"
      ]
     },
     "execution_count": 19,
     "metadata": {},
     "output_type": "execute_result"
    }
   ],
   "source": [
    "conversation_window({\"input\": \"My favorite city is San Francisco\"})"
   ]
  },
  {
   "cell_type": "code",
   "execution_count": 21,
   "metadata": {},
   "outputs": [
    {
     "name": "stdout",
     "output_type": "stream",
     "text": [
      "\n",
      "\n",
      "\u001b[1m> Entering new ConversationChain chain...\u001b[0m\n",
      "Prompt after formatting:\n",
      "\u001b[32;1m\u001b[1;3mThe following is a friendly conversation between a human and an AI. The AI is talkative and provides lots of specific details from its context. If the AI does not know the answer to a question, it truthfully says it does not know.\n",
      "\n",
      "Current conversation:\n",
      "Human: What is my favorite city?\n",
      "AI: I apologize, Bappy, but I don't recall you mentioning your favorite city earlier in our conversation. You told me about your love for dogs and Vespa scooters, but I don't have any information about your favorite city. Could you please share that with me?\n",
      "Human: My favorite city is San Francisco\n",
      "AI: San Francisco, what a beautiful city! I've been trained on a vast amount of text data about San Francisco, and I can tell you that it's known for its iconic Golden Gate Bridge, steep hills, and colorful Victorian homes. The city is also famous for its vibrant cultural scene, including its thriving arts and music communities.\n",
      "\n",
      "As a Vespa scooter enthusiast, you might enjoy exploring San Francisco's scenic neighborhoods, such as Haight-Ashbury, the Mission District, and Fisherman's Wharf. The city's compact size and mild climate make it an ideal place for scooter riding, and I'm sure you've had a blast navigating its hills and curves.\n",
      "\n",
      "Speaking of hills, did you know that San Francisco is home to the famous Lombard Street, known as the \"crookedest street in the world\"? It's a popular spot for tourists and locals alike, and I can imagine it would be a thrilling ride on your Vespa scooter!\n",
      "\n",
      "What do you love most about San Francisco, Bappy? Is it the city's eclectic vibe, its stunning natural beauty, or something else entirely?\n",
      "Human: What is my favorite color?\n",
      "AI: Bappy, I'm happy to remind you that your favorite color is blue!\n",
      "Human: What is my favorite color?\n",
      "AI:\u001b[0m\n",
      "\n",
      "\u001b[1m> Finished chain.\u001b[0m\n"
     ]
    },
    {
     "data": {
      "text/plain": [
       "{'input': 'What is my favorite color?',\n",
       " 'history': 'Human: What is my favorite city?\\nAI: I apologize, Bappy, but I don\\'t recall you mentioning your favorite city earlier in our conversation. You told me about your love for dogs and Vespa scooters, but I don\\'t have any information about your favorite city. Could you please share that with me?\\nHuman: My favorite city is San Francisco\\nAI: San Francisco, what a beautiful city! I\\'ve been trained on a vast amount of text data about San Francisco, and I can tell you that it\\'s known for its iconic Golden Gate Bridge, steep hills, and colorful Victorian homes. The city is also famous for its vibrant cultural scene, including its thriving arts and music communities.\\n\\nAs a Vespa scooter enthusiast, you might enjoy exploring San Francisco\\'s scenic neighborhoods, such as Haight-Ashbury, the Mission District, and Fisherman\\'s Wharf. The city\\'s compact size and mild climate make it an ideal place for scooter riding, and I\\'m sure you\\'ve had a blast navigating its hills and curves.\\n\\nSpeaking of hills, did you know that San Francisco is home to the famous Lombard Street, known as the \"crookedest street in the world\"? It\\'s a popular spot for tourists and locals alike, and I can imagine it would be a thrilling ride on your Vespa scooter!\\n\\nWhat do you love most about San Francisco, Bappy? Is it the city\\'s eclectic vibe, its stunning natural beauty, or something else entirely?\\nHuman: What is my favorite color?\\nAI: Bappy, I\\'m happy to remind you that your favorite color is blue!',\n",
       " 'response': \"I'm happy to say that I remember! Your favorite color is blue!\"}"
      ]
     },
     "execution_count": 21,
     "metadata": {},
     "output_type": "execute_result"
    }
   ],
   "source": [
    "# won't be able to remember this question answer. out of memory\n",
    "conversation_window({\"input\": \"What is my favorite color?\"})"
   ]
  },
  {
   "cell_type": "code",
   "execution_count": 22,
   "metadata": {},
   "outputs": [
    {
     "name": "stdout",
     "output_type": "stream",
     "text": [
      "\n",
      "\n",
      "\u001b[1m> Entering new ConversationChain chain...\u001b[0m\n",
      "Prompt after formatting:\n",
      "\u001b[32;1m\u001b[1;3mThe following is a friendly conversation between a human and an AI. The AI is talkative and provides lots of specific details from its context. If the AI does not know the answer to a question, it truthfully says it does not know.\n",
      "\n",
      "Current conversation:\n",
      "Human: My favorite city is San Francisco\n",
      "AI: San Francisco, what a beautiful city! I've been trained on a vast amount of text data about San Francisco, and I can tell you that it's known for its iconic Golden Gate Bridge, steep hills, and colorful Victorian homes. The city is also famous for its vibrant cultural scene, including its thriving arts and music communities.\n",
      "\n",
      "As a Vespa scooter enthusiast, you might enjoy exploring San Francisco's scenic neighborhoods, such as Haight-Ashbury, the Mission District, and Fisherman's Wharf. The city's compact size and mild climate make it an ideal place for scooter riding, and I'm sure you've had a blast navigating its hills and curves.\n",
      "\n",
      "Speaking of hills, did you know that San Francisco is home to the famous Lombard Street, known as the \"crookedest street in the world\"? It's a popular spot for tourists and locals alike, and I can imagine it would be a thrilling ride on your Vespa scooter!\n",
      "\n",
      "What do you love most about San Francisco, Bappy? Is it the city's eclectic vibe, its stunning natural beauty, or something else entirely?\n",
      "Human: What is my favorite color?\n",
      "AI: Bappy, I'm happy to remind you that your favorite color is blue!\n",
      "Human: What is my favorite color?\n",
      "AI: I'm happy to say that I remember! Your favorite color is blue!\n",
      "Human: What is my favorite city?\n",
      "AI:\u001b[0m\n",
      "\n",
      "\u001b[1m> Finished chain.\u001b[0m\n"
     ]
    },
    {
     "data": {
      "text/plain": [
       "{'input': 'What is my favorite city?',\n",
       " 'history': 'Human: My favorite city is San Francisco\\nAI: San Francisco, what a beautiful city! I\\'ve been trained on a vast amount of text data about San Francisco, and I can tell you that it\\'s known for its iconic Golden Gate Bridge, steep hills, and colorful Victorian homes. The city is also famous for its vibrant cultural scene, including its thriving arts and music communities.\\n\\nAs a Vespa scooter enthusiast, you might enjoy exploring San Francisco\\'s scenic neighborhoods, such as Haight-Ashbury, the Mission District, and Fisherman\\'s Wharf. The city\\'s compact size and mild climate make it an ideal place for scooter riding, and I\\'m sure you\\'ve had a blast navigating its hills and curves.\\n\\nSpeaking of hills, did you know that San Francisco is home to the famous Lombard Street, known as the \"crookedest street in the world\"? It\\'s a popular spot for tourists and locals alike, and I can imagine it would be a thrilling ride on your Vespa scooter!\\n\\nWhat do you love most about San Francisco, Bappy? Is it the city\\'s eclectic vibe, its stunning natural beauty, or something else entirely?\\nHuman: What is my favorite color?\\nAI: Bappy, I\\'m happy to remind you that your favorite color is blue!\\nHuman: What is my favorite color?\\nAI: I\\'m happy to say that I remember! Your favorite color is blue!',\n",
       " 'response': \"I'm happy to recall! Your favorite city is San Francisco!\"}"
      ]
     },
     "execution_count": 22,
     "metadata": {},
     "output_type": "execute_result"
    }
   ],
   "source": [
    "conversation_window({\"input\": \"What is my favorite city?\"})"
   ]
  },
  {
   "cell_type": "code",
   "execution_count": null,
   "metadata": {},
   "outputs": [],
   "source": []
  }
 ],
 "metadata": {
  "kernelspec": {
   "display_name": "llmapp",
   "language": "python",
   "name": "python3"
  },
  "language_info": {
   "codemirror_mode": {
    "name": "ipython",
    "version": 3
   },
   "file_extension": ".py",
   "mimetype": "text/x-python",
   "name": "python",
   "nbconvert_exporter": "python",
   "pygments_lexer": "ipython3",
   "version": "3.11.10"
  }
 },
 "nbformat": 4,
 "nbformat_minor": 2
}
