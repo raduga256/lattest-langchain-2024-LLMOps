{
 "cells": [
  {
   "cell_type": "code",
   "execution_count": 1,
   "metadata": {},
   "outputs": [],
   "source": [
    "# import API keys\n",
    "import os\n",
    "from dotenv import load_dotenv, find_dotenv\n",
    "\n",
    "# Load environment variables from a.env file\n",
    "_ = load_dotenv(find_dotenv())\n",
    "\n",
    "openai_api_key = os.environ[\"OPENAI_API_KEY\"]\n",
    "\n",
    "# Load opensource api models\n",
    "groql_api_key = os.environ[\"GROQ_API_KEY\"]"
   ]
  },
  {
   "cell_type": "code",
   "execution_count": 10,
   "metadata": {},
   "outputs": [],
   "source": [
    "from langchain_openai import ChatOpenAI\n",
    "## Changing Models\n",
    "chatModel = ChatOpenAI(model=\"gpt-3.5-turbo-0125\")"
   ]
  },
  {
   "cell_type": "code",
   "execution_count": 1,
   "metadata": {},
   "outputs": [],
   "source": [
    "# working with Groq models\n",
    "\n",
    "from langchain_groq import ChatGroq\n",
    "\n",
    "llamaChatModel = ChatGroq(\n",
    "    model=\"llama3-70b-8192\"\n",
    ")"
   ]
  },
  {
   "cell_type": "code",
   "execution_count": 17,
   "metadata": {},
   "outputs": [],
   "source": [
    "# imports\n",
    "from langchain_core.output_parsers import StrOutputParser\n",
    "from langchain_core.prompts import ChatPromptTemplate\n",
    "\n",
    "prompt = ChatPromptTemplate.from_template(\"Tell me a curios fact about {politician}\")\n",
    "\n",
    "\n",
    "# using LCEL\n",
    "chain = prompt | llamaChatModel | StrOutputParser()"
   ]
  },
  {
   "cell_type": "code",
   "execution_count": 18,
   "metadata": {},
   "outputs": [],
   "source": [
    "# using the chain\n",
    "response = chain.invoke({\"politician\" : \"JFK\"})"
   ]
  },
  {
   "cell_type": "code",
   "execution_count": 19,
   "metadata": {},
   "outputs": [
    {
     "data": {
      "text/plain": [
       "'Here\\'s one:\\n\\nDid you know that John F. Kennedy, the 35th President of the United States, was a best-selling author at the age of 23? In 1940, while still a student at Harvard, Kennedy wrote a thesis titled \"Appeasement in Munich\" which was later published as a book called \"Why England Slept\". The book was a surprise success, selling over 80,000 copies and earning Kennedy a profit of around $40,000 (approximately $700,000 today). This made him one of the youngest authors to have a best-seller in the United States at the time!'"
      ]
     },
     "execution_count": 19,
     "metadata": {},
     "output_type": "execute_result"
    }
   ],
   "source": [
    "response"
   ]
  },
  {
   "cell_type": "code",
   "execution_count": 22,
   "metadata": {},
   "outputs": [],
   "source": [
    "# Learning about Football\n",
    "prompt = ChatPromptTemplate.from_template(\"Tell me a curious fact about {soccer_player}\")\n",
    "\n",
    "\n",
    "# using LCEL\n",
    "chain = prompt | llamaChatModel | StrOutputParser()"
   ]
  },
  {
   "cell_type": "code",
   "execution_count": 23,
   "metadata": {},
   "outputs": [
    {
     "data": {
      "text/plain": [
       "\"I think you meant Cristiano Ronaldo, not Ronald CR7 (although CR7 is his popular nickname!).\\n\\nHere's a curious fact about Cristiano Ronaldo:\\n\\n**He has a museum dedicated to himself!** The CR7 Museum is located in Funchal, Madeira, Portugal, which is his hometown. The museum showcases his trophies, medals, and memorabilia from his illustrious career, including his three Ballon d'Or awards, numerous league and Champions League titles, and even his European Championship winners' medal. The museum also features interactive exhibits, allowing visitors to test their football skills and compare them to Ronaldo's. Talk about confidence and self-admiration!\""
      ]
     },
     "execution_count": 23,
     "metadata": {},
     "output_type": "execute_result"
    }
   ],
   "source": [
    "chain.invoke({\"soccer_player\": \"Ronald CR7\"})"
   ]
  },
  {
   "cell_type": "markdown",
   "metadata": {},
   "source": [
    "### Streaming and Batch outputs"
   ]
  },
  {
   "cell_type": "code",
   "execution_count": 24,
   "metadata": {},
   "outputs": [
    {
     "name": "stdout",
     "output_type": "stream",
     "text": [
      "I think you meant Cristiano Ronaldo, not Ronald CR7 (although CR7 is his popular nickname!).\n",
      "\n",
      "Here's a curious fact about Cristiano Ronaldo:\n",
      "\n",
      "Did you know that Cristiano Ronaldo has a museum dedicated to himself in his hometown of Funchal, Madeira, Portugal? The museum, called \"CR7 Museum\", was opened in 2013 and features an impressive collection of his trophies, medals, and memorabilia, including his three Ballon d'Or awards, numerous league titles, and European Championship trophies. The museum also has interactive exhibits and a replica of his childhood home. It's a must-visit for any CR7 fan!"
     ]
    }
   ],
   "source": [
    "# streaming output\n",
    "for s in chain.stream({\"soccer_player\": \"Ronald CR7\"}):\n",
    "    print(s, end=\"\", flush=True)"
   ]
  },
  {
   "cell_type": "code",
   "execution_count": 25,
   "metadata": {},
   "outputs": [
    {
     "data": {
      "text/plain": [
       "['I think you meant Cristiano Ronaldo (CR7)!\\n\\nHere\\'s a curious fact about him:\\n\\n**Cristiano Ronaldo\\'s museum has a dedicated room for his hairdresser!**\\n\\nYes, you read that right! In his museum, \"Museu CR7\", located in Funchal, Madeira, Portugal, there\\'s a special room dedicated to his long-time hairdresser, José Maria. The room features a life-size wax figure of José Maria, along with various hair products and equipment. Ronaldo has often credited José Maria with helping him maintain his iconic hairstyles throughout his career.\\n\\nIsn\\'t that a unique and fascinating fact about one of the world\\'s greatest footballers?',\n",
       " \"Here's one:\\n\\n**Lionel Messi has a growth hormone deficiency.**\\n\\nWhen Messi was 11 years old, he was diagnosed with a growth hormone deficiency that restricted his growth. At the time, his family couldn't afford the treatment, which cost $1,500 per month. However, Messi's talent was already evident, and FC Barcelona offered to pay for his treatment if he joined their youth academy. The rest, as they say, is history. Despite this challenge, Messi went on to become one of the greatest soccer players of all time, winning numerous accolades and breaking countless records.\"]"
      ]
     },
     "execution_count": 25,
     "metadata": {},
     "output_type": "execute_result"
    }
   ],
   "source": [
    "# Batch Outputs for multiple players\n",
    "\n",
    "chain.batch([{\"soccer_player\": \"Ronald CR7\"}, {\"soccer_player\": \"Messsi\"}])"
   ]
  }
 ],
 "metadata": {
  "kernelspec": {
   "display_name": "llmapp",
   "language": "python",
   "name": "python3"
  },
  "language_info": {
   "codemirror_mode": {
    "name": "ipython",
    "version": 3
   },
   "file_extension": ".py",
   "mimetype": "text/x-python",
   "name": "python",
   "nbconvert_exporter": "python",
   "pygments_lexer": "ipython3",
   "version": "3.11.10"
  }
 },
 "nbformat": 4,
 "nbformat_minor": 2
}
